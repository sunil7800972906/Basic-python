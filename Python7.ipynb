{
 "cells": [
  {
   "cell_type": "code",
   "execution_count": 1,
   "metadata": {},
   "outputs": [
    {
     "name": "stdout",
     "output_type": "stream",
     "text": [
      "Please enter your name : \n",
      "sunil\n",
      "Please enter your name : \n",
      "Sunil\n",
      "Thank You Sunil\n"
     ]
    }
   ],
   "source": [
    "name = 'Sunil'\n",
    "\n",
    "while True:\n",
    "    print(\"Please enter your name : \")\n",
    "    name1 = input()\n",
    "    if name1 == name:\n",
    "        break\n",
    "print('Thank You',name)"
   ]
  },
  {
   "cell_type": "code",
   "execution_count": 2,
   "metadata": {},
   "outputs": [
    {
     "name": "stdout",
     "output_type": "stream",
     "text": [
      "Who are you?\n",
      "Sunilverma\n",
      "Hello, sunil .what is your password it is a fish\n",
      "swordfish\n",
      "Congrates!!!,Access Granted\n"
     ]
    }
   ],
   "source": [
    "while True:\n",
    "    print('Who are you?')\n",
    "    name = input()\n",
    "    \n",
    "    if name != 'Sunilverma':\n",
    "        continue\n",
    "        \n",
    "    print(\"Hello, sunil .what is your password it is a fish\")\n",
    "    password =input()\n",
    "    if password == 'swordfish':\n",
    "        break\n",
    "print('Congrates!!!,Access Granted')        "
   ]
  },
  {
   "cell_type": "code",
   "execution_count": null,
   "metadata": {},
   "outputs": [],
   "source": []
  }
 ],
 "metadata": {
  "kernelspec": {
   "display_name": "Python 3",
   "language": "python",
   "name": "python3"
  },
  "language_info": {
   "codemirror_mode": {
    "name": "ipython",
    "version": 3
   },
   "file_extension": ".py",
   "mimetype": "text/x-python",
   "name": "python",
   "nbconvert_exporter": "python",
   "pygments_lexer": "ipython3",
   "version": "3.7.7"
  }
 },
 "nbformat": 4,
 "nbformat_minor": 4
}
