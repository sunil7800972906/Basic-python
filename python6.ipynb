{
 "cells": [
  {
   "cell_type": "markdown",
   "metadata": {},
   "source": [
    "# Python6"
   ]
  },
  {
   "cell_type": "code",
   "execution_count": 11,
   "metadata": {},
   "outputs": [
    {
     "name": "stdout",
     "output_type": "stream",
     "text": [
      "Please enter your name : 16\n",
      "Aap ki age kay hai, 16? 16\n",
      "16\n",
      "Aap vote  dalne ke liye 2 saal ke bad aaete.\n"
     ]
    }
   ],
   "source": [
    "name = input(\"Please enter your name : \")\n",
    "age = int(input(\"Aap ki age kay hai, {0}? \".format(name)))\n",
    "\n",
    "print(age)\n",
    "\n",
    "if age >=18:\n",
    "    print(\"Aap vote de skte hai!!\")\n",
    "else:\n",
    "    print(\"Aap vote  dalne ke liye {0} saal ke bad aaeye.\".format(18-age))"
   ]
  },
  {
   "cell_type": "code",
   "execution_count": 14,
   "metadata": {},
   "outputs": [
    {
     "name": "stdout",
     "output_type": "stream",
     "text": [
      "Plz guess a number b/w 1 to 10\n",
      "5\n",
      "You got it first time\n"
     ]
    }
   ],
   "source": [
    "print(\"Plz guess a number b/w 1 to 10\")\n",
    "guess = int(input())\n",
    "\n",
    "if guess < 5:\n",
    "    print(\"Plz guess higher\")\n",
    "    \n",
    "    guess = int(input())\n",
    "    if guess == 5:\n",
    "        print(\"Well done your  guess is correct!!!\")\n",
    "    else:\n",
    "        print(\"Sorry, you have not guessed the correct number\")\n",
    "elif guess > 5:\n",
    "    print(\"Plz guess lower\")\n",
    "    \n",
    "    guess = int(input())\n",
    "    if guess == 5:\n",
    "        print(\"Well done ,your guess is correct!!\")\n",
    "    else:\n",
    "        print(\"You have not guessed the correct number\")\n",
    "else:\n",
    "    print(\"You got it first time\")\n",
    "    "
   ]
  },
  {
   "cell_type": "code",
   "execution_count": null,
   "metadata": {},
   "outputs": [],
   "source": []
  }
 ],
 "metadata": {
  "kernelspec": {
   "display_name": "Python 3",
   "language": "python",
   "name": "python3"
  },
  "language_info": {
   "codemirror_mode": {
    "name": "ipython",
    "version": 3
   },
   "file_extension": ".py",
   "mimetype": "text/x-python",
   "name": "python",
   "nbconvert_exporter": "python",
   "pygments_lexer": "ipython3",
   "version": "3.7.7"
  }
 },
 "nbformat": 4,
 "nbformat_minor": 4
}
