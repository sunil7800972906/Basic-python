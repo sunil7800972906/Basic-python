{
 "cells": [
  {
   "cell_type": "code",
   "execution_count": 17,
   "metadata": {},
   "outputs": [
    {
     "name": "stdout",
     "output_type": "stream",
     "text": [
      "enter the value of var14\n",
      "Enter the value of var26\n",
      "10\n",
      "-2\n",
      "24\n",
      "4096\n",
      "0.6666666666666666\n",
      "0\n",
      "4\n"
     ]
    }
   ],
   "source": [
    "var1 = int(input(\"enter the value of var1\"))\n",
    "var2 = int(input (\"Enter the value of var2\"))\n",
    "print(var1+var2)\n",
    "print(var1-var2)\n",
    "print(var1*var2)\n",
    "print(var1**var2)\n",
    "print(var1/var2)\n",
    "print(var1//var2)\n",
    "print(var1%var2)\n"
   ]
  },
  {
   "cell_type": "code",
   "execution_count": 18,
   "metadata": {},
   "outputs": [
    {
     "name": "stdout",
     "output_type": "stream",
     "text": [
      "Hello,Vishwajeet.How are you?\n"
     ]
    }
   ],
   "source": [
    "var1 = 'Hello'\n",
    "var2 ='Vishwajeet'\n",
    "\n",
    "message1 = var1+','+var2+'.How are you?'\n",
    "print(message1)"
   ]
  },
  {
   "cell_type": "code",
   "execution_count": 19,
   "metadata": {},
   "outputs": [
    {
     "name": "stdout",
     "output_type": "stream",
     "text": [
      "Hello,Vishwajeet. How are you?\n"
     ]
    }
   ],
   "source": [
    "message2 = '{},{}. How are you?'.format(var1,var2)\n",
    "print(message2)"
   ]
  },
  {
   "cell_type": "code",
   "execution_count": 21,
   "metadata": {},
   "outputs": [
    {
     "name": "stdout",
     "output_type": "stream",
     "text": [
      "Hello,Vishwajeet. How are you?\n"
     ]
    }
   ],
   "source": [
    "message3 = f'{var1},{var2}. How are you?'\n",
    "print(message3)"
   ]
  },
  {
   "cell_type": "code",
   "execution_count": 28,
   "metadata": {},
   "outputs": [
    {
     "name": "stdout",
     "output_type": "stream",
     "text": [
      "Knowledge Shelf\n",
      "<class 'str'>\n",
      "knowledge shelf\n",
      "KNOWLEDGE SHELF\n",
      "15\n",
      "15\n",
      "3\n",
      "10\n",
      "S\n",
      "Knowledge \n"
     ]
    }
   ],
   "source": [
    "message4 = \"Knowledge Shelf\"\n",
    "print(message4)\n",
    "print(type(message4))\n",
    "print(message4.lower())\n",
    "print(message4.upper())\n",
    "print(message4.__len__())\n",
    "print(len(message4))\n",
    "print(message4.count('e'))\n",
    "print(message4.find('Shelf'))\n",
    "print(message4[10])\n",
    "print(message4[0:10])"
   ]
  },
  {
   "cell_type": "code",
   "execution_count": 31,
   "metadata": {},
   "outputs": [
    {
     "name": "stdout",
     "output_type": "stream",
     "text": [
      "Value of I 1\n",
      "Value of I 2\n",
      "Value of I 3\n",
      "Value of I 4\n",
      "Value of I 5\n",
      "Value of I 6\n",
      "Value of I 7\n",
      "Value of I 8\n",
      "Value of I 9\n",
      "Value of I 10\n",
      "Value of I 11\n",
      "For loop Complete!!!\n"
     ]
    }
   ],
   "source": [
    "for i in range(1,12):\n",
    "    print(\"Value of I \"+ str(i))\n",
    "print(\"For loop Complete!!!\")    "
   ]
  },
  {
   "cell_type": "code",
   "execution_count": 32,
   "metadata": {},
   "outputs": [
    {
     "name": "stdout",
     "output_type": "stream",
     "text": [
      "No.1 squared is 1 and cubed is 1\n",
      "No.2 squared is 4 and cubed is 8\n",
      "No.3 squared is 9 and cubed is 27\n",
      "No.4 squared is 16 and cubed is 64\n",
      "No.5 squared is 25 and cubed is 125\n",
      "No.6 squared is 36 and cubed is 216\n",
      "No.7 squared is 49 and cubed is 343\n",
      "No.8 squared is 64 and cubed is 512\n",
      "No.9 squared is 81 and cubed is 729\n",
      "No.10 squared is 100 and cubed is 1000\n",
      "No.11 squared is 121 and cubed is 1331\n",
      "For Loop Completed!!!!\n"
     ]
    }
   ],
   "source": [
    "for var1 in range(1,12):\n",
    "    print(\"No.{} squared is {} and cubed is {}\".format(var1,var1**2,var1**3))\n",
    "print(\"For Loop Completed!!!!\")"
   ]
  },
  {
   "cell_type": "code",
   "execution_count": 35,
   "metadata": {},
   "outputs": [
    {
     "name": "stdout",
     "output_type": "stream",
     "text": [
      "Hello, Knowledge Shelf\n"
     ]
    }
   ],
   "source": [
    "def function1():\n",
    "    print(\"Hello, Knowledge Shelf\")\n",
    "function1()    "
   ]
  },
  {
   "cell_type": "code",
   "execution_count": 36,
   "metadata": {},
   "outputs": [
    {
     "name": "stdout",
     "output_type": "stream",
     "text": [
      "Enter the value of num1 : 12\n",
      "Enter the value of num2 : 24\n",
      "Sum =  36\n"
     ]
    }
   ],
   "source": [
    "def add():\n",
    "    var1 = int(input(\"Enter the value of num1 : \"))\n",
    "    var2 = int(input(\"Enter the value of num2 : \"))\n",
    "     \n",
    "    var3 = var1 + var2 \n",
    "    print(\"Sum = \",var3)\n",
    "    \n",
    "add()    \n",
    "    "
   ]
  },
  {
   "cell_type": "code",
   "execution_count": 37,
   "metadata": {},
   "outputs": [
    {
     "name": "stdout",
     "output_type": "stream",
     "text": [
      "Sub =  6\n"
     ]
    }
   ],
   "source": [
    "def sub(var1, var2):\n",
    "    var3 = var1 - var2\n",
    "    \n",
    "    print(\"Sub = \",var3)\n",
    "sub(12,6)    "
   ]
  },
  {
   "cell_type": "code",
   "execution_count": 38,
   "metadata": {},
   "outputs": [
    {
     "name": "stdout",
     "output_type": "stream",
     "text": [
      "Enter the value of num1 : 21\n",
      "Enter the value of num2 : 2\n",
      "Multiply =  42\n"
     ]
    }
   ],
   "source": [
    "def multiply():\n",
    "    var1 = int(input(\"Enter the value of num1 : \"))\n",
    "    var2 = int(input(\"Enter the value of num2 : \"))\n",
    "    \n",
    "    var3 = var1 * var2\n",
    "    \n",
    "    return var3\n",
    "\n",
    "var4 = multiply()\n",
    "print(\"Multiply = \",var4)"
   ]
  },
  {
   "cell_type": "code",
   "execution_count": 46,
   "metadata": {},
   "outputs": [
    {
     "ename": "SyntaxError",
     "evalue": "invalid syntax (<ipython-input-46-7b0f578f0070>, line 4)",
     "output_type": "error",
     "traceback": [
      "\u001b[1;36m  File \u001b[1;32m\"<ipython-input-46-7b0f578f0070>\"\u001b[1;36m, line \u001b[1;32m4\u001b[0m\n\u001b[1;33m    retun var3\u001b[0m\n\u001b[1;37m             ^\u001b[0m\n\u001b[1;31mSyntaxError\u001b[0m\u001b[1;31m:\u001b[0m invalid syntax\n"
     ]
    }
   ],
   "source": [
    "def div(var1, var2):\n",
    "    var3 = var1/var2\n",
    "    \n",
    "    retun var3\n",
    "    \n",
    "var4 = div(49,9)\n",
    "print(\"Division = \",var4)"
   ]
  },
  {
   "cell_type": "code",
   "execution_count": 47,
   "metadata": {},
   "outputs": [
    {
     "name": "stdout",
     "output_type": "stream",
     "text": [
      "Enter the name : sunil\n",
      "Hello sunil\n"
     ]
    }
   ],
   "source": [
    "greeting = 'Hello'\n",
    "name = input(\"Enter the name : \")\n",
    "print(greeting+' '+name)"
   ]
  },
  {
   "cell_type": "code",
   "execution_count": null,
   "metadata": {},
   "outputs": [],
   "source": [
    "var1 = input(\"Enter the value: \")\n",
    "var1"
   ]
  },
  {
   "cell_type": "code",
   "execution_count": null,
   "metadata": {},
   "outputs": [],
   "source": [
    "print(\"hello\")"
   ]
  },
  {
   "cell_type": "code",
   "execution_count": null,
   "metadata": {},
   "outputs": [],
   "source": []
  }
 ],
 "metadata": {
  "kernelspec": {
   "display_name": "Python 3",
   "language": "python",
   "name": "python3"
  },
  "language_info": {
   "codemirror_mode": {
    "name": "ipython",
    "version": 3
   },
   "file_extension": ".py",
   "mimetype": "text/x-python",
   "name": "python",
   "nbconvert_exporter": "python",
   "pygments_lexer": "ipython3",
   "version": "3.7.7"
  }
 },
 "nbformat": 4,
 "nbformat_minor": 4
}
