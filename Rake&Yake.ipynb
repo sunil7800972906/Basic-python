{
 "cells": [
  {
   "cell_type": "code",
   "execution_count": 2,
   "metadata": {},
   "outputs": [
    {
     "name": "stdout",
     "output_type": "stream",
     "text": [
      "Hello, Knowledge Shelf\n"
     ]
    }
   ],
   "source": [
    "def function1():\n",
    "    print(\"Hello, Knowledge Shelf\")"
   ]
  },
  {
   "cell_type": "code",
   "execution_count": 3,
   "metadata": {},
   "outputs": [
    {
     "name": "stdout",
     "output_type": "stream",
     "text": [
      "Enter the value of num1 : 4\n",
      "Enter the value of num2 : 5\n",
      "Sum =  9\n"
     ]
    }
   ],
   "source": [
    "def add():\n",
    "    var1 = int(input(\"Enter the value of num1 : \"))\n",
    "    var2 = int(input(\"Enter the value of num2 : \"))\n",
    "     \n",
    "    var3 = var1 + var2 \n",
    "    print(\"Sum = \",var3)"
   ]
  },
  {
   "cell_type": "code",
   "execution_count": 4,
   "metadata": {},
   "outputs": [
    {
     "name": "stdout",
     "output_type": "stream",
     "text": [
      "Sub =  6\n"
     ]
    }
   ],
   "source": [
    "def sub(var1, var2):\n",
    "    var3 = var1 - var2\n",
    "    \n",
    "    print(\"Sub = \",var3)"
   ]
  },
  {
   "cell_type": "code",
   "execution_count": 5,
   "metadata": {},
   "outputs": [
    {
     "name": "stdout",
     "output_type": "stream",
     "text": [
      "Enter the value of num1 : 6\n",
      "Enter the value of num2 : 6\n",
      "Multiply =  36\n"
     ]
    }
   ],
   "source": [
    "def multiply():\n",
    "    var1 = int(input(\"Enter the value of num1 : \"))\n",
    "    var2 = int(input(\"Enter the value of num2 : \"))\n",
    "    \n",
    "    var3 = var1 * var2\n",
    "    \n",
    "    return var3"
   ]
  },
  {
   "cell_type": "code",
   "execution_count": 7,
   "metadata": {},
   "outputs": [],
   "source": [
    "def div(var1, var2):\n",
    "    \n",
    "    var3 = var1/var2\n",
    "    \n",
    "    return var3"
   ]
  },
  {
   "cell_type": "code",
   "execution_count": 8,
   "metadata": {},
   "outputs": [
    {
     "name": "stdout",
     "output_type": "stream",
     "text": [
      "[1, 2, 3, 4, 5, 6]\n"
     ]
    }
   ],
   "source": [
    "print([1,2,3,4,5,6])"
   ]
  },
  {
   "cell_type": "code",
   "execution_count": 11,
   "metadata": {},
   "outputs": [
    {
     "data": {
      "text/plain": [
       "[3.5, True, None, 4, 'cat', 'dog', 'rat', 'elephant']"
      ]
     },
     "execution_count": 11,
     "metadata": {},
     "output_type": "execute_result"
    }
   ],
   "source": [
    "[3.5,True,None,4,'cat','dog','rat','elephant']"
   ]
  },
  {
   "cell_type": "code",
   "execution_count": 12,
   "metadata": {},
   "outputs": [],
   "source": [
    "animals = ['cat','bat','rat','elephant','dog']"
   ]
  },
  {
   "cell_type": "code",
   "execution_count": 13,
   "metadata": {},
   "outputs": [
    {
     "name": "stdout",
     "output_type": "stream",
     "text": [
      "['cat', 'bat', 'rat', 'elephant', 'dog']\n"
     ]
    }
   ],
   "source": [
    "print(animals)"
   ]
  },
  {
   "cell_type": "code",
   "execution_count": 20,
   "metadata": {},
   "outputs": [
    {
     "data": {
      "text/plain": [
       "['cat', 'bat']"
      ]
     },
     "execution_count": 20,
     "metadata": {},
     "output_type": "execute_result"
    }
   ],
   "source": [
    "animals[0:2]"
   ]
  },
  {
   "cell_type": "code",
   "execution_count": 22,
   "metadata": {},
   "outputs": [
    {
     "data": {
      "text/plain": [
       "'elephant'"
      ]
     },
     "execution_count": 22,
     "metadata": {},
     "output_type": "execute_result"
    }
   ],
   "source": [
    "animals[-2]"
   ]
  },
  {
   "cell_type": "code",
   "execution_count": 25,
   "metadata": {},
   "outputs": [
    {
     "data": {
      "text/plain": [
       "['cat', 'bat', 'rat']"
      ]
     },
     "execution_count": 25,
     "metadata": {},
     "output_type": "execute_result"
    }
   ],
   "source": [
    "animals[:3]"
   ]
  },
  {
   "cell_type": "code",
   "execution_count": 26,
   "metadata": {},
   "outputs": [
    {
     "data": {
      "text/plain": [
       "5"
      ]
     },
     "execution_count": 26,
     "metadata": {},
     "output_type": "execute_result"
    }
   ],
   "source": [
    "len(animals)"
   ]
  },
  {
   "cell_type": "code",
   "execution_count": 27,
   "metadata": {},
   "outputs": [
    {
     "data": {
      "text/plain": [
       "[[1, 2, 3, 4, 5], ['cat', 'bat', 'rat', 'elephant', 'dog']]"
      ]
     },
     "execution_count": 27,
     "metadata": {},
     "output_type": "execute_result"
    }
   ],
   "source": [
    "var2=[[1,2,3,4,5],['cat', 'bat', 'rat', 'elephant', 'dog']]\n",
    "var2\n"
   ]
  },
  {
   "cell_type": "code",
   "execution_count": 28,
   "metadata": {},
   "outputs": [
    {
     "data": {
      "text/plain": [
       "['cat', 'dog', 'rat', 'elephant']"
      ]
     },
     "execution_count": 28,
     "metadata": {},
     "output_type": "execute_result"
    }
   ],
   "source": [
    "spam=['cat','dog','rat']\n",
    "spam.append('elephant')\n",
    "spam"
   ]
  },
  {
   "cell_type": "code",
   "execution_count": 29,
   "metadata": {},
   "outputs": [],
   "source": [
    "spam.insert(2,'fish')"
   ]
  },
  {
   "cell_type": "code",
   "execution_count": 30,
   "metadata": {},
   "outputs": [
    {
     "data": {
      "text/plain": [
       "['cat', 'dog', 'fish', 'rat', 'elephant']"
      ]
     },
     "execution_count": 30,
     "metadata": {},
     "output_type": "execute_result"
    }
   ],
   "source": [
    "spam"
   ]
  },
  {
   "cell_type": "code",
   "execution_count": 32,
   "metadata": {},
   "outputs": [
    {
     "data": {
      "text/plain": [
       "['cat', 'dog', 'rat', 'elephant']"
      ]
     },
     "execution_count": 32,
     "metadata": {},
     "output_type": "execute_result"
    }
   ],
   "source": [
    "spam.remove('fish')\n",
    "spam"
   ]
  },
  {
   "cell_type": "code",
   "execution_count": 33,
   "metadata": {},
   "outputs": [
    {
     "data": {
      "text/plain": [
       "[-7, -1, 2, 3.14, 5]"
      ]
     },
     "execution_count": 33,
     "metadata": {},
     "output_type": "execute_result"
    }
   ],
   "source": [
    "spam=[2,5,3.14,-1,-7]\n",
    "spam.sort()\n",
    "spam"
   ]
  },
  {
   "cell_type": "code",
   "execution_count": 34,
   "metadata": {},
   "outputs": [
    {
     "name": "stdout",
     "output_type": "stream",
     "text": [
      "1\n",
      "2\n",
      "3\n",
      "4\n",
      "5\n",
      "6\n",
      "7\n",
      "8\n",
      "9\n",
      "0\n"
     ]
    }
   ],
   "source": [
    "string = \"1234567890\"\n",
    "for char in string:\n",
    "    print(char)"
   ]
  },
  {
   "cell_type": "code",
   "execution_count": 42,
   "metadata": {},
   "outputs": [
    {
     "name": "stdout",
     "output_type": "stream",
     "text": [
      "<str_iterator object at 0x0000015D17F06AC8>\n",
      "1\n",
      "2\n",
      "3\n",
      "4\n",
      "5\n",
      "6\n",
      "7\n",
      "8\n",
      "9\n",
      "0\n"
     ]
    }
   ],
   "source": [
    "string = \"1234567890\"\n",
    "my_iterator = iter(string)\n",
    "print(my_iterator)\n",
    "print(next(my_iterator))\n",
    "print(next(my_iterator))\n",
    "print(next(my_iterator))\n",
    "print(next(my_iterator))\n",
    "print(next(my_iterator))\n",
    "print(next(my_iterator))\n",
    "print(next(my_iterator))\n",
    "print(next(my_iterator))\n",
    "print(next(my_iterator))\n",
    "print(next(my_iterator))"
   ]
  },
  {
   "cell_type": "code",
   "execution_count": 44,
   "metadata": {},
   "outputs": [
    {
     "name": "stdout",
     "output_type": "stream",
     "text": [
      "1\n",
      "2\n",
      "3\n",
      "4\n",
      "5\n",
      "6\n",
      "7\n",
      "8\n",
      "9\n",
      "0\n"
     ]
    }
   ],
   "source": [
    "string = \"1234567890\"\n",
    "for char in iter(string):\n",
    "    print(char)"
   ]
  },
  {
   "cell_type": "code",
   "execution_count": 45,
   "metadata": {},
   "outputs": [
    {
     "name": "stdout",
     "output_type": "stream",
     "text": [
      "Mon\n",
      "Tue\n",
      "Wed\n",
      "Thrus\n",
      "Fri\n",
      "sat\n",
      "Sun\n"
     ]
    }
   ],
   "source": [
    "my_list = ['Mon','Tue','Wed','Thrus','Fri','sat','Sun']\n",
    "\n",
    "my_iter = iter(my_list)\n",
    "\n",
    "for char in range(0,len(my_list)):\n",
    "    next_iter = next(my_iter)\n",
    "    print(next_iter)"
   ]
  },
  {
   "cell_type": "code",
   "execution_count": 47,
   "metadata": {},
   "outputs": [
    {
     "data": {
      "text/plain": [
       "'fat'"
      ]
     },
     "execution_count": 47,
     "metadata": {},
     "output_type": "execute_result"
    }
   ],
   "source": [
    "myCat = {'size':'fat','color':'grey','disposition':'loud'}\n",
    "myCat['size']"
   ]
  },
  {
   "cell_type": "code",
   "execution_count": 48,
   "metadata": {},
   "outputs": [
    {
     "data": {
      "text/plain": [
       "False"
      ]
     },
     "execution_count": 48,
     "metadata": {},
     "output_type": "execute_result"
    }
   ],
   "source": [
    "spam1 = ['cat','dog','rat']\n",
    "spam2 = ['dog','rat','cat']\n",
    "spam1 == spam2"
   ]
  },
  {
   "cell_type": "code",
   "execution_count": 50,
   "metadata": {},
   "outputs": [
    {
     "data": {
      "text/plain": [
       "True"
      ]
     },
     "execution_count": 50,
     "metadata": {},
     "output_type": "execute_result"
    }
   ],
   "source": [
    "myCat1 = {'size':'fat','color':'grey','disposition':'loud'}\n",
    "myCat2 = {'color':'grey','disposition':'loud','size':'fat'}\n",
    "myCat1 == myCat2"
   ]
  },
  {
   "cell_type": "code",
   "execution_count": 51,
   "metadata": {},
   "outputs": [
    {
     "name": "stdout",
     "output_type": "stream",
     "text": [
      "sunil\n",
      "M\n",
      "29\n"
     ]
    }
   ],
   "source": [
    "spam = {'name':'sunil','gender':'M','age':'29'}\n",
    "for v in spam.values():\n",
    "    print(v)"
   ]
  },
  {
   "cell_type": "code",
   "execution_count": 52,
   "metadata": {},
   "outputs": [
    {
     "name": "stdout",
     "output_type": "stream",
     "text": [
      "name\n",
      "gender\n",
      "age\n"
     ]
    }
   ],
   "source": [
    "for k in spam.keys():\n",
    "    print(k)"
   ]
  },
  {
   "cell_type": "code",
   "execution_count": 54,
   "metadata": {},
   "outputs": [
    {
     "name": "stdout",
     "output_type": "stream",
     "text": [
      "('name', 'sunil')\n",
      "('gender', 'M')\n",
      "('age', '29')\n"
     ]
    }
   ],
   "source": [
    "for i in spam.items():\n",
    "    print(i)"
   ]
  },
  {
   "cell_type": "code",
   "execution_count": 56,
   "metadata": {},
   "outputs": [
    {
     "name": "stdout",
     "output_type": "stream",
     "text": [
      "Enter the name : \n",
      "Rahul\n",
      "Jan 1is the birthdays of Rahul\n",
      "Enter the name : \n",
      "Ram\n",
      "I do mot have birthday info for Ram\n",
      "What is their birthday??\n",
      "\n",
      "Birthday database is updated\n",
      "Enter the name : \n",
      "\n"
     ]
    }
   ],
   "source": [
    "birthdays = {'Rahul':'Jan 1','Vivek':'Aprl 21','sunil':'Aug 1'}\n",
    "while True:\n",
    "    print(\"Enter the name : \")\n",
    "    name = input()\n",
    "    if name =='':\n",
    "        break\n",
    "    \n",
    "    if name in birthdays:\n",
    "        print(birthdays[name]+'is the birthdays of '+name)\n",
    "        \n",
    "    else:\n",
    "        print('I do mot have birthday info for '+ name)\n",
    "        print('What is their birthday??')\n",
    "        bday = input()\n",
    "        birthdays[name] = bday\n",
    "        print('Birthday database is updated')\n",
    "    "
   ]
  },
  {
   "cell_type": "code",
   "execution_count": null,
   "metadata": {},
   "outputs": [],
   "source": []
  }
 ],
 "metadata": {
  "kernelspec": {
   "display_name": "Python 3",
   "language": "python",
   "name": "python3"
  },
  "language_info": {
   "codemirror_mode": {
    "name": "ipython",
    "version": 3
   },
   "file_extension": ".py",
   "mimetype": "text/x-python",
   "name": "python",
   "nbconvert_exporter": "python",
   "pygments_lexer": "ipython3",
   "version": "3.7.7"
  }
 },
 "nbformat": 4,
 "nbformat_minor": 4
}
