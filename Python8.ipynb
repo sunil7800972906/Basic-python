{
 "cells": [
  {
   "cell_type": "markdown",
   "metadata": {},
   "source": [
    "# Python8"
   ]
  },
  {
   "cell_type": "code",
   "execution_count": 1,
   "metadata": {},
   "outputs": [
    {
     "name": "stdout",
     "output_type": "stream",
     "text": [
      "i is now 20\n",
      "i is now 18\n",
      "i is now 16\n",
      "i is now 14\n",
      "i is now 12\n",
      "i is now 10\n",
      "i is now 8\n",
      "i is now 6\n",
      "i is now 4\n",
      "i is now 2\n"
     ]
    }
   ],
   "source": [
    "for i in range(20,1,-2):\n",
    "    print('i is now {}'.format(i))"
   ]
  },
  {
   "cell_type": "code",
   "execution_count": 2,
   "metadata": {},
   "outputs": [
    {
     "name": "stdout",
     "output_type": "stream",
     "text": [
      "9\n",
      ",\n",
      "5\n",
      "4\n",
      "3\n",
      ",\n",
      "5\n",
      "3\n",
      "3\n",
      ",\n",
      "5\n",
      "2\n",
      ",\n",
      "3\n",
      "2\n",
      ",\n",
      "4\n",
      "3\n",
      "2\n",
      ",\n",
      "2\n",
      "3\n",
      "4\n",
      ",\n",
      "5\n",
      "4\n",
      "3\n"
     ]
    }
   ],
   "source": [
    "number = '9,543,533,52,32,432,234,543'\n",
    "\n",
    "for i in range(0,len(number)):\n",
    "    print(number[i])"
   ]
  },
  {
   "cell_type": "code",
   "execution_count": 4,
   "metadata": {},
   "outputs": [
    {
     "name": "stdout",
     "output_type": "stream",
     "text": [
      "<class 'str'>\n",
      "<class 'int'>\n",
      "The number is 95435335232432234543\n"
     ]
    }
   ],
   "source": [
    "number = '9,543,533,52,32,432,234,543'\n",
    "cleanNumber =''\n",
    "print(type(number))\n",
    "for i in range(0,len(number)):\n",
    "    if number[i] in '0123456789':\n",
    "        cleanNumber = cleanNumber + number[i]\n",
    "newNumber = int(cleanNumber)\n",
    "print(type(newNumber))\n",
    "print(\"The number is {}\".format(newNumber))\n",
    "        \n",
    "        \n",
    "        \n",
    "        \n",
    "        \n"
   ]
  },
  {
   "cell_type": "code",
   "execution_count": null,
   "metadata": {},
   "outputs": [],
   "source": []
  }
 ],
 "metadata": {
  "kernelspec": {
   "display_name": "Python 3",
   "language": "python",
   "name": "python3"
  },
  "language_info": {
   "codemirror_mode": {
    "name": "ipython",
    "version": 3
   },
   "file_extension": ".py",
   "mimetype": "text/x-python",
   "name": "python",
   "nbconvert_exporter": "python",
   "pygments_lexer": "ipython3",
   "version": "3.7.7"
  }
 },
 "nbformat": 4,
 "nbformat_minor": 4
}
