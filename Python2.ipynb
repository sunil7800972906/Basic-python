{
 "cells": [
  {
   "cell_type": "markdown",
   "metadata": {},
   "source": [
    "# Python2"
   ]
  },
  {
   "cell_type": "code",
   "execution_count": 6,
   "metadata": {},
   "outputs": [
    {
     "name": "stdout",
     "output_type": "stream",
     "text": [
      "sunil20\n"
     ]
    }
   ],
   "source": [
    "_var1 = 20\n",
    "name_var_1 = \"sunil\"\n",
    "# print(_var1)\n",
    "print(name_var_1+str(_var1))"
   ]
  },
  {
   "cell_type": "code",
   "execution_count": 15,
   "metadata": {},
   "outputs": [
    {
     "name": "stdout",
     "output_type": "stream",
     "text": [
      "Enter first value 56\n",
      "Enter the second value 34\n",
      "90\n",
      "22\n",
      "1904\n",
      "274405567216138790463155698772664096245962311983760614096896\n",
      "1.6470588235294117\n",
      "1\n",
      "22\n"
     ]
    }
   ],
   "source": [
    "var2 = int(input(\"Enter first value \"))\n",
    "var3 = int(input(\"Enter the second value \"))\n",
    "print(var2+var3)\n",
    "print(var2-var3)\n",
    "print(var2*var3)\n",
    "print(var2**var3)\n",
    "print(var2/var3)\n",
    "print(var2//var3)\n",
    "print(var2%var3)"
   ]
  },
  {
   "cell_type": "code",
   "execution_count": null,
   "metadata": {},
   "outputs": [],
   "source": []
  }
 ],
 "metadata": {
  "kernelspec": {
   "display_name": "Python 3",
   "language": "python",
   "name": "python3"
  },
  "language_info": {
   "codemirror_mode": {
    "name": "ipython",
    "version": 3
   },
   "file_extension": ".py",
   "mimetype": "text/x-python",
   "name": "python",
   "nbconvert_exporter": "python",
   "pygments_lexer": "ipython3",
   "version": "3.7.7"
  }
 },
 "nbformat": 4,
 "nbformat_minor": 4
}
